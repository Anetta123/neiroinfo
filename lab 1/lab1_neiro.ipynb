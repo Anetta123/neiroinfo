{
  "nbformat": 4,
  "nbformat_minor": 0,
  "metadata": {
    "colab": {
      "provenance": []
    },
    "kernelspec": {
      "name": "python3",
      "display_name": "Python 3"
    },
    "language_info": {
      "name": "python"
    }
  },
  "cells": [
    {
      "cell_type": "markdown",
      "source": [
        "#**Лабораторная работа 1**\n",
        "### Персептроны. Процедура обучения Розенблатта\n",
        "Выполнил студент Ивченко Анна М8О-408\n",
        "\n",
        "Вариант 8"
      ],
      "metadata": {
        "id": "1lu3VxASfNeO"
      }
    },
    {
      "cell_type": "markdown",
      "source": [
        "Целью работы является исследование свойств персептрона Розенблатта и его применение для решения задачи распознавания образов."
      ],
      "metadata": {
        "id": "uZ2bH03Efbaf"
      }
    },
    {
      "cell_type": "markdown",
      "source": [
        "Для начала выполнения программы загрузим используемые библиотеки:"
      ],
      "metadata": {
        "id": "xlMwz6AyfoVH"
      }
    },
    {
      "cell_type": "code",
      "execution_count": 33,
      "metadata": {
        "id": "HBfJUzm8ew0R"
      },
      "outputs": [],
      "source": [
        "import matplotlib.pyplot as plt\n",
        "import numpy as np\n",
        "import torch\n",
        "import torch.nn as nn\n",
        "from tqdm import tqdm"
      ]
    },
    {
      "cell_type": "markdown",
      "source": [
        "#**Задание 1**"
      ],
      "metadata": {
        "id": "H7rxN3nvfpbn"
      }
    },
    {
      "cell_type": "markdown",
      "source": [
        "Построить и обучить сеть для правильного соотношения точек к двум классам"
      ],
      "metadata": {
        "id": "6lY1ptRVf5ry"
      }
    },
    {
      "cell_type": "markdown",
      "source": [
        "Сформируем наши данные:"
      ],
      "metadata": {
        "id": "EWjz6arAgGSH"
      }
    },
    {
      "cell_type": "code",
      "source": [
        "x1 = [-2.8, -0.2, 2.8, -2.1, 0.3, -1]\n",
        "y1 = [1.4, -3.5, -4, -2.7, -4.1, -4]\n",
        "c1 = [0, 1, 1, 0, 1, 0]"
      ],
      "metadata": {
        "id": "bylQAplYgEkS"
      },
      "execution_count": 34,
      "outputs": []
    },
    {
      "cell_type": "code",
      "source": [
        "list(zip(x1,y1))"
      ],
      "metadata": {
        "colab": {
          "base_uri": "https://localhost:8080/",
          "height": 0
        },
        "id": "aKL2eNCqfwqN",
        "outputId": "b18c91f5-98c3-4aed-80e4-04b36d93546a"
      },
      "execution_count": 35,
      "outputs": [
        {
          "output_type": "execute_result",
          "data": {
            "text/plain": [
              "[(-2.8, 1.4), (-0.2, -3.5), (2.8, -4), (-2.1, -2.7), (0.3, -4.1), (-1, -4)]"
            ]
          },
          "metadata": {},
          "execution_count": 35
        }
      ]
    },
    {
      "cell_type": "code",
      "source": [
        "x_train = torch.FloatTensor(np.array(list(zip(x1,y1))))\n",
        "y_train = torch.FloatTensor(np.array(c1))"
      ],
      "metadata": {
        "id": "tFN4GdDPgXoh"
      },
      "execution_count": 36,
      "outputs": []
    },
    {
      "cell_type": "markdown",
      "source": [
        "Ниже опишем класс персерптрона\n",
        "\n",
        "Класс `Perceptron` используется для создания перцептрона, простейшей нейронной сети, выполняющей бинарную классификацию. Она принимает на вход признаковое пространство `in_features` и возвращает бинарный результат `out_features`.\n"
      ],
      "metadata": {
        "id": "yxy9CqyBglZj"
      }
    },
    {
      "cell_type": "code",
      "source": [
        "class Perceptron(nn.Module):\n",
        "  def __init__ (self, in_features: int, out_features: int, bias: bool = True):\n",
        "    super().__init__()\n",
        "    self.weights = nn.Parameter(torch.randn(in_features, out_features))\n",
        "    self.bias = bias\n",
        "    if bias:\n",
        "      self.bias_term = nn.Parameter(torch.randn(out_features))\n",
        "\n",
        "  def forward(self, x):\n",
        "      x = x @ self.weights\n",
        "      if self.bias:\n",
        "         x +=self.bias_term\n",
        "      return x"
      ],
      "metadata": {
        "id": "hZa4SEYmgljk"
      },
      "execution_count": 37,
      "outputs": []
    },
    {
      "cell_type": "markdown",
      "source": [
        "Создаем персептрон, который будет принимать два признака\n",
        "\n",
        "loss_funtion - функция потерь\n",
        "\n",
        "optimizer - оптимизатор"
      ],
      "metadata": {
        "id": "NKDhU307gxAW"
      }
    },
    {
      "cell_type": "code",
      "source": [
        "perceptron = Perceptron(2,1)\n",
        "loss_funtion = nn.L1Loss()\n",
        "optimizer = torch.optim.SGD(perceptron.parameters(),lr=0.05)"
      ],
      "metadata": {
        "id": "KOihbtSggzm6"
      },
      "execution_count": 38,
      "outputs": []
    },
    {
      "cell_type": "markdown",
      "source": [
        "Определяем функцию обучения для бинарной классификации"
      ],
      "metadata": {
        "id": "DTD76J2Tg4iw"
      }
    },
    {
      "cell_type": "code",
      "source": [
        "def fit(model, x_train, y_train, criterion, optimizer, epochs):\n",
        "  losses  = []\n",
        "  log_template = \"\\Epoch {ep:03d} train_loss: {t_loss:0.4f}\"\n",
        "  with tqdm(desc=\"epoch\", total=epochs) as pbar_outer:\n",
        "    for epoch in range(epochs):\n",
        "      optimizer.zero_grad()\n",
        "      outp = model(x_train)\n",
        "\n",
        "      probabilities = torch.sigmoid(outp.view(-1))\n",
        "      loss = criterion(probabilities, y_train)\n",
        "\n",
        "      loss.backward()\n",
        "      losses.append(loss.detach().flatten()[0])\n",
        "      optimizer.step()\n",
        "\n",
        "      pbar_outer.update(1)\n",
        "      tqdm.write(log_template.format(ep = epoch+1, t_loss = loss))\n",
        "  return losses"
      ],
      "metadata": {
        "id": "RDvLb0tHg363"
      },
      "execution_count": 39,
      "outputs": []
    },
    {
      "cell_type": "markdown",
      "source": [
        "Выполним обучение перцептрона `perceptron` на обучающей выборке `x_train` с соответствующими метками `y_train`"
      ],
      "metadata": {
        "id": "YPA1A4Hvg70v"
      }
    },
    {
      "cell_type": "code",
      "source": [
        "losses = fit(perceptron, x_train, y_train, loss_funtion, optimizer, 1000)"
      ],
      "metadata": {
        "id": "4G-YXKS0hIKH"
      },
      "execution_count": null,
      "outputs": []
    },
    {
      "cell_type": "markdown",
      "source": [
        "Создадим график с изображением средней абсолютной ошибки (MAE)"
      ],
      "metadata": {
        "id": "yGnRuSIPhX2m"
      }
    },
    {
      "cell_type": "code",
      "source": [
        "plt.plot(losses)\n",
        "plt.show()"
      ],
      "metadata": {
        "colab": {
          "base_uri": "https://localhost:8080/",
          "height": 430
        },
        "id": "_aeBWCEKhdxp",
        "outputId": "09007976-92cd-4c59-e4b8-61b4befa69b7"
      },
      "execution_count": 41,
      "outputs": [
        {
          "output_type": "display_data",
          "data": {
            "text/plain": [
              "<Figure size 640x480 with 1 Axes>"
            ],
            "image/png": "[encoded data removed]"
          },
          "metadata": {}
        }
      ]
    },
    {
      "cell_type": "code",
      "source": [
        "current_weights = perceptron.weights.detach().clone()\n",
        "w = current_weights.flatten().numpy()\n",
        "\n",
        "current_bias = perceptron.bias_term.detach().clone()\n",
        "b = current_bias.flatten().numpy()"
      ],
      "metadata": {
        "id": "WkHMnEDOhujC"
      },
      "execution_count": 42,
      "outputs": []
    },
    {
      "cell_type": "markdown",
      "source": [
        "Создадим разделяющую прямую"
      ],
      "metadata": {
        "id": "uDZytMVPqMOR"
      }
    },
    {
      "cell_type": "code",
      "source": [
        "X = np.linspace(-5, 5, 100)\n",
        "def discriminant(x):\n",
        "  return(-x*w[0] - b[0])/w[1]\n",
        "\n",
        "plt.plot(X, discriminant(X), \"red\")\n",
        "\n",
        "plt.grid(True, which ='both')\n",
        "plt.axvline(x=0, color ='k')\n",
        "plt.axhline(y=0, color ='k')\n",
        "\n",
        "\n",
        "\n",
        "for x, y, c in list(zip(x1, y1, y_train)):\n",
        "  if (c == 1):\n",
        "    plt.scatter(x, y, c=\"blue\")\n",
        "  else:\n",
        "    plt.scatter(x, y, c=\"green\")\n",
        "plt.show()"
      ],
      "metadata": {
        "colab": {
          "base_uri": "https://localhost:8080/",
          "height": 430
        },
        "id": "wCwRFTXxhwjG",
        "outputId": "e91379da-d9ac-4a0d-c1e1-d77b436fc1bd"
      },
      "execution_count": 43,
      "outputs": [
        {
          "output_type": "display_data",
          "data": {
            "text/plain": [
              "<Figure size 640x480 with 1 Axes>"
            ],
            "image/png": "[encoded data removed]"
          },
          "metadata": {}
        }
      ]
    },
    {
      "cell_type": "markdown",
      "source": [
        "# **Задание 2**"
      ],
      "metadata": {
        "id": "Aea_7qrVpabj"
      }
    },
    {
      "cell_type": "markdown",
      "source": [
        "Рассмотрим теперь процесс для 4-х классового случая"
      ],
      "metadata": {
        "id": "j_Uq4tx2pdPI"
      }
    },
    {
      "cell_type": "code",
      "source": [
        "x2 = [1.7, 4.7, -0.5, 1.8, 1.5, -1.3, -3.9, 4.7]\n",
        "y2 = [3.3, -4.5, 0.8, 2.1, 2.2, 0.8, -4.5, -2.2]\n",
        "\n",
        "c2_1 = [1, 0, 1, 1, 1, 1, 0, 0]\n",
        "c2_2 = [1, 1, 0, 1, 1, 0, 0, 1]\n"
      ],
      "metadata": {
        "id": "6pZPTI_upc2d"
      },
      "execution_count": 44,
      "outputs": []
    },
    {
      "cell_type": "code",
      "source": [
        "list(zip(x2,y2))"
      ],
      "metadata": {
        "colab": {
          "base_uri": "https://localhost:8080/",
          "height": 0
        },
        "id": "9ZgDuFBPpgNB",
        "outputId": "2977de1c-f0f1-442f-fb93-6712d734c4b3"
      },
      "execution_count": 45,
      "outputs": [
        {
          "output_type": "execute_result",
          "data": {
            "text/plain": [
              "[(1.7, 3.3),\n",
              " (4.7, -4.5),\n",
              " (-0.5, 0.8),\n",
              " (1.8, 2.1),\n",
              " (1.5, 2.2),\n",
              " (-1.3, 0.8),\n",
              " (-3.9, -4.5),\n",
              " (4.7, -2.2)]"
            ]
          },
          "metadata": {},
          "execution_count": 45
        }
      ]
    },
    {
      "cell_type": "code",
      "source": [
        "x_train_2 = torch.FloatTensor(np.array(list(zip(x2,y2))))\n",
        "y_train_2 = torch.FloatTensor(np.array(list(zip(c2_1, c2_2))))"
      ],
      "metadata": {
        "id": "ZuDgYrtNph1g"
      },
      "execution_count": 46,
      "outputs": []
    },
    {
      "cell_type": "markdown",
      "source": [
        "Создаем второй персептрон, который принимает два признака и на выходе будет иметь два нейрона"
      ],
      "metadata": {
        "id": "-AuXwUqppfkj"
      }
    },
    {
      "cell_type": "code",
      "source": [
        "perceptron2 = Perceptron(2,2)\n",
        "loss_funtion = nn.L1Loss()\n",
        "optimizer = torch.optim.SGD(perceptron2.parameters(),lr=0.05)"
      ],
      "metadata": {
        "id": "GnOYxF7Vpolh"
      },
      "execution_count": 48,
      "outputs": []
    },
    {
      "cell_type": "markdown",
      "source": [
        "fit2 - функция для обучения нашей бинарной классификации"
      ],
      "metadata": {
        "id": "Bjiq_lVWpqa6"
      }
    },
    {
      "cell_type": "code",
      "source": [
        "def fit2(model, x_train, y_train, criterion, optimizer, epochs):\n",
        "  losses  = []\n",
        "  log_template = \"\\Epoch {ep:03d} train_loss: {t_loss:0.4f}\"\n",
        "  with tqdm(desc=\"epoch\", total=epochs) as pbar_outer:\n",
        "    for epoch in range(epochs):\n",
        "      optimizer.zero_grad()\n",
        "      outp = model(x_train)\n",
        "\n",
        "      probaba = torch.sigmoid(outp)\n",
        "      loss1 = criterion(probaba[:, 0], y_train[:,0])\n",
        "      loss2 = criterion(probaba[:, 1], y_train[:,1])\n",
        "      loss = loss1 + loss2\n",
        "\n",
        "      loss.backward()\n",
        "      losses.append(loss.detach().flatten()[0])\n",
        "      optimizer.step()\n",
        "\n",
        "      pbar_outer.update(1)\n",
        "      tqdm.write(log_template.format(ep = epoch+1, t_loss = loss))\n",
        "  return losses"
      ],
      "metadata": {
        "id": "nkhvV5ZaprD-"
      },
      "execution_count": 49,
      "outputs": []
    },
    {
      "cell_type": "markdown",
      "source": [
        "Обучим модель"
      ],
      "metadata": {
        "id": "YRfJ4SoApsRu"
      }
    },
    {
      "cell_type": "code",
      "source": [
        "losses2 = fit2(perceptron2, x_train_2, y_train_2, loss_funtion, optimizer, 1000)"
      ],
      "metadata": {
        "id": "dYmCKfWPpsvB"
      },
      "execution_count": null,
      "outputs": []
    },
    {
      "cell_type": "markdown",
      "source": [
        "Посмотрим на график потерь, который вычисляет MAE"
      ],
      "metadata": {
        "id": "vRYBlfYepv4C"
      }
    },
    {
      "cell_type": "code",
      "source": [
        "# График потерь\n",
        "plt.plot(losses2)\n",
        "plt.show()"
      ],
      "metadata": {
        "colab": {
          "base_uri": "https://localhost:8080/",
          "height": 430
        },
        "id": "4bRlNynepydY",
        "outputId": "51db1270-5628-4951-d174-0d2f61cf8415"
      },
      "execution_count": 51,
      "outputs": [
        {
          "output_type": "display_data",
          "data": {
            "text/plain": [
              "<Figure size 640x480 with 1 Axes>"
            ],
            "image/png": "[encoded data removed]"
          },
          "metadata": {}
        }
      ]
    },
    {
      "cell_type": "code",
      "source": [
        "current_weights = perceptron2.weights.detach().clone()\n",
        "w = current_weights.numpy()\n",
        "\n",
        "current_bias = perceptron2.bias_term.detach().clone()\n",
        "b = current_bias.numpy()"
      ],
      "metadata": {
        "id": "qcxoI-05p0SI"
      },
      "execution_count": 52,
      "outputs": []
    },
    {
      "cell_type": "code",
      "source": [
        "def reverse_one_hot(arr):\n",
        "  arr_new = []\n",
        "\n",
        "  for i, y in enumerate(arr):\n",
        "    arr_new.append(int(str(y[0]) + str(y[1]), 2))\n",
        "\n",
        "  return np.array(arr_new)"
      ],
      "metadata": {
        "id": "BB99Frdyp1XA"
      },
      "execution_count": 53,
      "outputs": []
    },
    {
      "cell_type": "markdown",
      "source": [
        "Создадим разделяющую прямые"
      ],
      "metadata": {
        "id": "_6COYf1Gp236"
      }
    },
    {
      "cell_type": "code",
      "source": [
        "# Создание разделяющей прямой\n",
        "X = np.linspace(-10, 10, 1000)\n",
        "\n",
        "def discriminant1(x):\n",
        "  return(-x*w[0][0] - b[0])/w[1][0]\n",
        "\n",
        "def discriminant2(x):\n",
        "  return(-x*w[0][1] - b[0])/w[1][1]\n",
        "\n",
        "plt.plot(X, discriminant1(X), \"red\")\n",
        "plt.plot(X, discriminant2(X), \"red\")\n",
        "\n",
        "plt.grid(True, which ='both')\n",
        "plt.axvline(x=0, color ='k')\n",
        "plt.axhline(y=0, color ='k')\n",
        "\n",
        "\n",
        "y_train_2 = reverse_one_hot(y_train_2.to(torch.int).numpy())\n",
        "\n",
        "for x, y, c in list(zip(x2, y2, y_train_2)):\n",
        "  if (c == 0):\n",
        "    plt.scatter(x, y, c=\"blue\")\n",
        "  elif (c == 1):\n",
        "    plt.scatter(x, y, c=\"green\")\n",
        "  elif (c == 2):\n",
        "    plt.scatter(x, y, c=\"orange\")\n",
        "  else:\n",
        "    plt.scatter(x, y, c=\"black\")\n",
        "plt.rcParams ['figure.figsize'] = [10, 4]\n",
        "plt.ylim(-5, 5)\n",
        "plt.show()"
      ],
      "metadata": {
        "colab": {
          "base_uri": "https://localhost:8080/",
          "height": 430
        },
        "id": "ng7kfymvp6E_",
        "outputId": "38dbdc2d-6cfb-4013-be6a-eb5acc4d8394"
      },
      "execution_count": 54,
      "outputs": [
        {
          "output_type": "display_data",
          "data": {
            "text/plain": [
              "<Figure size 640x480 with 1 Axes>"
            ],
            "image/png": "[encoded data removed]"
          },
          "metadata": {}
        }
      ]
    },
    {
      "cell_type": "markdown",
      "source": [
        "Вывод: В ходе проделанной работы, был изучен персептрон Розенблатта и его основные свойства. Персептрон представляет собой простую модель искусственной нейронной сети, используемую для решения задачи бинарной классификации. Мы рассмотрели процесс обучения персептрона на 2х и 4х классах. Данная лабораторная работа освежила мои знания, которые были получены на курсе \"Искусственный интеллект\""
      ],
      "metadata": {
        "id": "ZdyGAwS0p9Zd"
      }
    }
  ]
}